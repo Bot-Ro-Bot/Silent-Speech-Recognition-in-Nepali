{
 "cells": [
  {
   "cell_type": "markdown",
   "metadata": {
    "id": "qNJ487Zj9npm"
   },
   "source": [
    "## NECESSARY INSTALLS"
   ]
  },
  {
   "cell_type": "code",
   "execution_count": 2,
   "metadata": {
    "execution": {
     "iopub.execute_input": "2021-06-14T11:35:05.138566Z",
     "iopub.status.busy": "2021-06-14T11:35:05.138225Z",
     "iopub.status.idle": "2021-06-14T11:35:58.795223Z",
     "shell.execute_reply": "2021-06-14T11:35:58.792742Z",
     "shell.execute_reply.started": "2021-06-14T11:35:05.138536Z"
    },
    "executionInfo": {
     "elapsed": 4445,
     "status": "ok",
     "timestamp": 1623669559242,
     "user": {
      "displayName": "Rabin Nepal",
      "photoUrl": "https://lh3.googleusercontent.com/a-/AOh14GhdTUBYFK7fC1_QhaCcXhcbdkDRn108GzrW-dhwOJ0=s64",
      "userId": "05311906977658749647"
     },
     "user_tz": -345
    },
    "id": "R2_qvIWE6yz8"
   },
   "outputs": [],
   "source": [
    "!pip install tensorflow-gpu &> /dev/null\n",
    "# !pip install pickle\n",
    "# !pip install biosppy\n",
    "# !pip install librosa"
   ]
  },
  {
   "cell_type": "code",
   "execution_count": 2,
   "metadata": {
    "execution": {
     "iopub.execute_input": "2021-06-14T11:38:03.066236Z",
     "iopub.status.busy": "2021-06-14T11:38:03.065888Z",
     "iopub.status.idle": "2021-06-14T11:38:03.731928Z",
     "shell.execute_reply": "2021-06-14T11:38:03.730978Z",
     "shell.execute_reply.started": "2021-06-14T11:38:03.066198Z"
    },
    "executionInfo": {
     "elapsed": 4417,
     "status": "ok",
     "timestamp": 1623670057073,
     "user": {
      "displayName": "Rabin Nepal",
      "photoUrl": "https://lh3.googleusercontent.com/a-/AOh14GhdTUBYFK7fC1_QhaCcXhcbdkDRn108GzrW-dhwOJ0=s64",
      "userId": "05311906977658749647"
     },
     "user_tz": -345
    },
    "id": "PKatQPjI8IlH",
    "outputId": "c87aca0e-9306-41d2-8433-e79f21280071"
   },
   "outputs": [
    {
     "name": "stdout",
     "output_type": "stream",
     "text": [
      "Mon Jun 14 11:38:03 2021       \n",
      "+-----------------------------------------------------------------------------+\n",
      "| NVIDIA-SMI 450.119.04   Driver Version: 450.119.04   CUDA Version: 11.0     |\n",
      "|-------------------------------+----------------------+----------------------+\n",
      "| GPU  Name        Persistence-M| Bus-Id        Disp.A | Volatile Uncorr. ECC |\n",
      "| Fan  Temp  Perf  Pwr:Usage/Cap|         Memory-Usage | GPU-Util  Compute M. |\n",
      "|                               |                      |               MIG M. |\n",
      "|===============================+======================+======================|\n",
      "|   0  Tesla P100-PCIE...  Off  | 00000000:00:04.0 Off |                    0 |\n",
      "| N/A   39C    P0    26W / 250W |      0MiB / 16280MiB |      0%      Default |\n",
      "|                               |                      |                  N/A |\n",
      "+-------------------------------+----------------------+----------------------+\n",
      "                                                                               \n",
      "+-----------------------------------------------------------------------------+\n",
      "| Processes:                                                                  |\n",
      "|  GPU   GI   CI        PID   Type   Process name                  GPU Memory |\n",
      "|        ID   ID                                                   Usage      |\n",
      "|=============================================================================|\n",
      "|  No running processes found                                                 |\n",
      "+-----------------------------------------------------------------------------+\n"
     ]
    }
   ],
   "source": [
    "!nvidia-smi"
   ]
  },
  {
   "cell_type": "code",
   "execution_count": 5,
   "metadata": {
    "executionInfo": {
     "elapsed": 10755,
     "status": "ok",
     "timestamp": 1623669569990,
     "user": {
      "displayName": "Rabin Nepal",
      "photoUrl": "https://lh3.googleusercontent.com/a-/AOh14GhdTUBYFK7fC1_QhaCcXhcbdkDRn108GzrW-dhwOJ0=s64",
      "userId": "05311906977658749647"
     },
     "user_tz": -345
    },
    "id": "XPVeAIJv88_G",
    "outputId": "bcfc122b-21a4-43db-99e2-34748e63a696"
   },
   "outputs": [],
   "source": [
    "\n",
    "# # memory footprint support libraries/code\n",
    "# !ln -sf /opt/bin/nvidia-smi /usr/bin/nvidia-smi\n",
    "# !pip install gputil\n",
    "# !pip install psutil\n",
    "# !pip install humanize\n",
    "# import psutil\n",
    "# import humanize\n",
    "# import os\n",
    "# import GPUtil as GPU\n",
    "# GPUs = GPU.getGPUs()\n",
    "# # XXX: only one GPU on Colab and isn’t guaranteed\n",
    "# gpu = GPUs[0]\n",
    "# def printm():\n",
    "#  process = psutil.Process(os.getpid())\n",
    "#  print(\"Gen RAM Free: \" + humanize.naturalsize( psutil.virtual_memory().available ), \" | Proc size: \" + humanize.naturalsize( process.memory_info().rss))\n",
    "#  print(\"GPU RAM Free: {0:.0f}MB | Used: {1:.0f}MB | Util {2:3.0f}% | Total {3:.0f}MB\".format(gpu.memoryFree, gpu.memoryUsed, gpu.memoryUtil*100, gpu.memoryTotal))\n",
    "# printm()"
   ]
  },
  {
   "cell_type": "code",
   "execution_count": 6,
   "metadata": {
    "execution": {
     "iopub.execute_input": "2021-06-14T11:38:32.070833Z",
     "iopub.status.busy": "2021-06-14T11:38:32.070345Z",
     "iopub.status.idle": "2021-06-14T11:38:38.980312Z",
     "shell.execute_reply": "2021-06-14T11:38:38.979526Z",
     "shell.execute_reply.started": "2021-06-14T11:38:32.070773Z"
    },
    "executionInfo": {
     "elapsed": 679,
     "status": "ok",
     "timestamp": 1623669578961,
     "user": {
      "displayName": "Rabin Nepal",
      "photoUrl": "https://lh3.googleusercontent.com/a-/AOh14GhdTUBYFK7fC1_QhaCcXhcbdkDRn108GzrW-dhwOJ0=s64",
      "userId": "05311906977658749647"
     },
     "user_tz": -345
    },
    "id": "E7-tLtTq6u5A"
   },
   "outputs": [],
   "source": [
    "# import necessary modules\n",
    "\n",
    "import pandas as pd\n",
    "import numpy as np\n",
    "np.random.seed(42)\n",
    "\n",
    "import matplotlib.pyplot as plt\n",
    "import os\n",
    "import sys\n",
    "import pickle\n",
    "import librosa\n",
    "import tqdm\n",
    "# warnings.filterwarnings(\"ignore\")\n",
    "\n",
    "%matplotlib inline\n",
    "import matplotlib as mlp\n",
    "mlp.rc(\"xtick\",labelsize=10)\n",
    "mlp.rc(\"ytick\",labelsize=10)\n",
    "mlp.rc(\"axes\",labelsize=11)\n",
    "plt.rcParams[\"figure.figsize\"] = [5,3]\n",
    "plt.rcParams[\"figure.dpi\"] = 100\n",
    "\n",
    "import tensorflow as tf\n",
    "import tensorflow.keras as keras\n",
    "from tensorflow.keras.layers import LSTM\n",
    "from sklearn.preprocessing import LabelEncoder\n",
    "from sklearn.model_selection import StratifiedShuffleSplit\n",
    "\n",
    "from sklearn.metrics import confusion_matrix\n",
    "from sklearn.metrics import classification_report\n",
    "from sklearn.metrics import accuracy_score\n",
    "from sklearn.model_selection import cross_val_score\n",
    "from sklearn.model_selection import cross_val_predict\n",
    "from sklearn.metrics import roc_auc_score\n",
    "\n",
    "from sklearn.model_selection import StratifiedKFold\n",
    "from keras.wrappers.scikit_learn import KerasClassifier\n",
    "from sklearn.model_selection import GridSearchCV\n",
    "from sklearn.model_selection import RandomizedSearchCV\n",
    "\n",
    "CURR_DIR = os.getcwd()"
   ]
  },
  {
   "cell_type": "code",
   "execution_count": 7,
   "metadata": {
    "execution": {
     "iopub.execute_input": "2021-06-14T11:38:47.425800Z",
     "iopub.status.busy": "2021-06-14T11:38:47.425464Z",
     "iopub.status.idle": "2021-06-14T11:38:47.434175Z",
     "shell.execute_reply": "2021-06-14T11:38:47.433286Z",
     "shell.execute_reply.started": "2021-06-14T11:38:47.425771Z"
    },
    "executionInfo": {
     "elapsed": 23,
     "status": "ok",
     "timestamp": 1623669153103,
     "user": {
      "displayName": "Rabin Nepal",
      "photoUrl": "https://lh3.googleusercontent.com/a-/AOh14GhdTUBYFK7fC1_QhaCcXhcbdkDRn108GzrW-dhwOJ0=s64",
      "userId": "05311906977658749647"
     },
     "user_tz": -345
    },
    "id": "d6YfWbI76wQA",
    "outputId": "71d2038a-d6dd-4a1a-86f6-f3c0953fd258"
   },
   "outputs": [
    {
     "data": {
      "text/plain": [
       "'2.4.1'"
      ]
     },
     "execution_count": 7,
     "metadata": {},
     "output_type": "execute_result"
    }
   ],
   "source": [
    "tf.__version__"
   ]
  },
  {
   "cell_type": "code",
   "execution_count": 8,
   "metadata": {
    "execution": {
     "iopub.execute_input": "2021-06-14T11:38:48.451867Z",
     "iopub.status.busy": "2021-06-14T11:38:48.451484Z",
     "iopub.status.idle": "2021-06-14T11:38:48.461984Z",
     "shell.execute_reply": "2021-06-14T11:38:48.461112Z",
     "shell.execute_reply.started": "2021-06-14T11:38:48.451806Z"
    },
    "executionInfo": {
     "elapsed": 471,
     "status": "ok",
     "timestamp": 1623669592555,
     "user": {
      "displayName": "Rabin Nepal",
      "photoUrl": "https://lh3.googleusercontent.com/a-/AOh14GhdTUBYFK7fC1_QhaCcXhcbdkDRn108GzrW-dhwOJ0=s64",
      "userId": "05311906977658749647"
     },
     "user_tz": -345
    },
    "id": "Y09pHBPg6u5H"
   },
   "outputs": [],
   "source": [
    "\n",
    "# hardware definitions\n",
    "\"\"\"\n",
    "https://docs.openbci.com/docs/02Cyton/CytonDataFormat#:~:text=By%20default%2C%20our%20Arduino%20sketch,of%200.02235%20microVolts%20per%20count\n",
    "\"\"\"\n",
    "SAMPLING_RATE = 250 #Hz\n",
    "NUM_CHANNELS = 8 \n",
    "ADC_RESOLUTION = 24 #bits\n",
    "ADC_GAIN = 24.0\n",
    "REF_VOLTAGE = 4.5 #Volts\n",
    "SCALE_FACTOR = (REF_VOLTAGE/float((pow(2,23))-1)/ADC_GAIN)*1000000.0 #micro-volts\n",
    "\n",
    "# dataset definitions\n",
    "SPEAKER = [\"RL\",\"RN\",\"SR\",\"US\"]\n",
    "SESSION = [\"session\"+str(i) for i in range(1,9)]\n",
    "MODE = [\"mentally\",\"mouthed\"]\n",
    "SENTENCES =[\"अबको समय सुनाउ\",\"एउटा सङ्गित बजाउ\",\"आजको मौसम बताउ\",\"बत्तिको अवस्था बदल\",\"पङ्खाको स्तिथी बदल\"]\n",
    "LABELS = np.array(SENTENCES)[[3, 2, 1, 4, 0, 3, 2, 1, 4, 0, 3, 2, 1, 4, 0]]\n",
    "WORDS = [\"समय\",\"सङ्गित\",\"मौसम\",\"बत्ति\",\"पङ्खा\"]\n",
    "\n",
    "SENTENCE_LABEL= np.array(SENTENCES)[[0,1,2,0,3,1,0,3,0,0,1,1,3,3,4,4,2,3,1,2,2,2,4,4,4]]\n",
    "WORD_LABEL= np.array(WORDS)[[4,0,3,1,0,1,1,0,4,0,3,2,4,4,2,1,4,1,2,2,2,0,3,3,3]]\n",
    "\n",
    "\n"
   ]
  },
  {
   "cell_type": "markdown",
   "metadata": {
    "id": "ybsZWl_G6u5I"
   },
   "source": [
    "## IMPORT DATASET"
   ]
  },
  {
   "cell_type": "code",
   "execution_count": 9,
   "metadata": {
    "execution": {
     "iopub.execute_input": "2021-06-14T11:38:57.176490Z",
     "iopub.status.busy": "2021-06-14T11:38:57.176173Z",
     "iopub.status.idle": "2021-06-14T11:38:57.194844Z",
     "shell.execute_reply": "2021-06-14T11:38:57.192623Z",
     "shell.execute_reply.started": "2021-06-14T11:38:57.176460Z"
    },
    "executionInfo": {
     "elapsed": 17,
     "status": "ok",
     "timestamp": 1623667502712,
     "user": {
      "displayName": "Rabin Nepal",
      "photoUrl": "https://lh3.googleusercontent.com/a-/AOh14GhdTUBYFK7fC1_QhaCcXhcbdkDRn108GzrW-dhwOJ0=s64",
      "userId": "05311906977658749647"
     },
     "user_tz": -345
    },
    "id": "qVkFVpt86u5J"
   },
   "outputs": [],
   "source": [
    "def parser(files,NORMALIZE=True,DEPLOY=False):\n",
    "    \n",
    "    \"\"\"\n",
    "    parser function to extract utterances from .txt file and store them in a dictionary\n",
    "    \"\"\"\n",
    "    \n",
    "    # PERCENTILES FOR LENGTH NORMALIZATION\n",
    "    if(NORMALIZE==True):\n",
    "        percentile_95 = 1602\n",
    "        percentile_97 = 1614\n",
    "        percentile_99 = 1648\n",
    "        percentile_100 = 1875\n",
    "    else:\n",
    "        percentile_95 = percentile_97 = percentile_99 = percentile_100 = -1\n",
    "        \n",
    "    dataset = {\"data\":[], \"speaker\":[],\"session\":[],\"labels\":[]}\n",
    "    \n",
    "    def get_data(file):\n",
    "        \n",
    "        signal = read_data(file)\n",
    "        \n",
    "        if(DEPLOY==True):\n",
    "            dataset[\"data\"].extend(signal)\n",
    "            return\n",
    "        \n",
    "        if(len(signal)!=15):\n",
    "            return\n",
    "        \n",
    "        session = file.split(\"/\")[-2]\n",
    "        speaker = file.split(\"/\")[-3]\n",
    "        \n",
    "        dataset[\"data\"].extend(signal)\n",
    "        dataset[\"speaker\"].extend([speaker]*len(signal))\n",
    "        dataset[\"session\"].extend([session]*len(signal))\n",
    "        dataset[\"labels\"].extend(LABELS)\n",
    "        \n",
    "    \n",
    "    def read_data(file):\n",
    "        f = open(file, 'r')\n",
    "        contents = map(lambda x : x.strip(), f.readlines())\n",
    "        #the file starts with '%' and some instruction before data and removing these data \n",
    "        frames_original = list(filter(lambda x : x and x[0] != '%', contents))[1:]\n",
    "        #the data row contains channels info digital trigger and accelerometer info separated by comma\n",
    "        frames_original = list(map(lambda s : list(map( lambda ss: ss.strip(), s.split(','))), frames_original))\n",
    "        # (8 channels) + digital triggers\n",
    "        # the digital trigger is in a[16], used to indicate the utterance\n",
    "        frames = list(map(lambda a: list(map(float, a[1:9])) + [float(a[16])] , frames_original))\n",
    "        frames = np.array(frames)\n",
    "        indices = []\n",
    "        signal = []\n",
    "        for index,f in enumerate(frames[:,-1]):\n",
    "            if(bool(f) ^ bool(frames[(index+1) if ((index+1)<len(frames)) else index,-1]) ):\n",
    "                indices.append(index)\n",
    "                if len(indices)>1 and len(indices)%2==0:\n",
    "                    frame_len = indices[len(indices)-1] - indices[len(indices)-2]\n",
    "                    if(frame_len<percentile_99):\n",
    "                        pad = int(np.ceil((percentile_99 - frame_len)/2))\n",
    "                    else:\n",
    "                        pad = 0\n",
    "                    left_pad = indices[len(indices)-2] - pad\n",
    "                    right_pad = indices[len(indices)-1] + pad\n",
    "                    a_frame = (frames[left_pad:right_pad,:-1])[:percentile_99]\n",
    "                    signal.append(a_frame)\n",
    "    \n",
    "        # convert to microVolts and return\n",
    "        return np.array(signal)*SCALE_FACTOR\n",
    "        \n",
    "    for file,i in zip(files,tqdm.tqdm(range(1,len(files)+1),desc=\"PARSING DATA\")):\n",
    "        get_data(file)\n",
    "    \n",
    "    return dataset"
   ]
  },
  {
   "cell_type": "markdown",
   "metadata": {
    "id": "HIu2sWmF6u5L"
   },
   "source": [
    "## PROCESS SIGNAL"
   ]
  },
  {
   "cell_type": "code",
   "execution_count": 10,
   "metadata": {
    "execution": {
     "iopub.execute_input": "2021-06-14T11:38:59.079718Z",
     "iopub.status.busy": "2021-06-14T11:38:59.079377Z",
     "iopub.status.idle": "2021-06-14T11:38:59.090977Z",
     "shell.execute_reply": "2021-06-14T11:38:59.089971Z",
     "shell.execute_reply.started": "2021-06-14T11:38:59.079686Z"
    },
    "id": "5W_gyOkA6u5M"
   },
   "outputs": [],
   "source": [
    "def signal_pipeline(data,RICKER=False):\n",
    "\n",
    "    \"\"\"\n",
    "    CORRECT DC DRIFT --> CORRECT DC BIAS --> SMOOTHING SIGNAL --> NORMALIZE DATA --> FILTER DATA \t\n",
    "    \"\"\"\n",
    "    filter_data = []\n",
    "\n",
    "    def digital_filter(data,HPF=0.5,LPF=10,H_ORDER=4,L_ORDER=4,SR=250):\n",
    "        \"\"\"\n",
    "        HPF --> NOTCH --> LPF --> RICKER CONVOLUTION\n",
    "        \"\"\"\n",
    "\n",
    "        # highpass filter\n",
    "        f_signal = biosppy.signals.tools.filter_signal(data,ftype=\"butter\",band=\"highpass\",order=H_ORDER,sampling_rate=SR,frequency=HPF)\n",
    "        # notch filter\n",
    "        b,a = sig.iirnotch(50,30,SR)\n",
    "        f_signal = sig.lfilter(b,a,f_signal[0])\n",
    "\n",
    "        # lowpass filter\n",
    "        f_signal = biosppy.signals.tools.filter_signal(f_signal,ftype=\"butter\",band=\"lowpass\",order=L_ORDER,sampling_rate=SR,frequency=LPF)\n",
    "\n",
    "        if(RICKER==True):\n",
    "            # RICKER CONVOLUTION TO REMOVE HEARTBEAT ARTIFACTS\n",
    "            ricker_width = 35 * SR // 250\n",
    "            ricker_sigma = 4.0 * SR / 250\n",
    "            ricker = sig.ricker(ricker_width,ricker_sigma)\n",
    "            # normalize ricker\n",
    "            ricker = np.array(ricker, np.float32) / np.sum(np.abs(ricker))\n",
    "            convolution = sig.convolve(f_signal[0],ricker,mode=\"same\")\n",
    "            return (f_signal[0]-2*convolution)\n",
    "\n",
    "        return f_signal[0]\n",
    "\n",
    "    def process_signal(data):\n",
    "        f_data = []\n",
    "        for i in range(8):\n",
    "            # correction of DC drift\n",
    "            c_data = data[:,i]- data[0,i]\n",
    "\n",
    "            # correct DC bias\n",
    "            c_data = c_data - np.mean(c_data)\n",
    "\n",
    "            # normalize and filter data\n",
    "            c_data = digital_filter(c_data)\n",
    "            f_data.append(c_data)\n",
    "\n",
    "        return np.array(f_data).T\n",
    "\n",
    "    for d,i in zip(data,tqdm.tqdm(range(1,len(data)+1),desc=\"PROCESSING DATA: \")):\n",
    "        temp_data = process_signal(d)\n",
    "        filter_data.extend([temp_data])\n",
    "\n",
    "    return np.array(filter_data)\n"
   ]
  },
  {
   "cell_type": "markdown",
   "metadata": {
    "id": "VdoKUJUBAJVi"
   },
   "source": [
    "## GET DATASET (FILTERED AND AUGMENTED)"
   ]
  },
  {
   "cell_type": "code",
   "execution_count": 13,
   "metadata": {
    "execution": {
     "iopub.execute_input": "2021-06-14T11:40:15.100730Z",
     "iopub.status.busy": "2021-06-14T11:40:15.100290Z",
     "iopub.status.idle": "2021-06-14T11:40:15.105651Z",
     "shell.execute_reply": "2021-06-14T11:40:15.104246Z",
     "shell.execute_reply.started": "2021-06-14T11:40:15.100692Z"
    },
    "executionInfo": {
     "elapsed": 455,
     "status": "ok",
     "timestamp": 1623669604427,
     "user": {
      "displayName": "Rabin Nepal",
      "photoUrl": "https://lh3.googleusercontent.com/a-/AOh14GhdTUBYFK7fC1_QhaCcXhcbdkDRn108GzrW-dhwOJ0=s64",
      "userId": "05311906977658749647"
     },
     "user_tz": -345
    },
    "id": "JXxXR-Ys_Kp_"
   },
   "outputs": [],
   "source": [
    "DATA_PATH = \"../input/silent-emg-nepali-dataset/data_dict_filtered.pickle\""
   ]
  },
  {
   "cell_type": "code",
   "execution_count": 14,
   "metadata": {
    "execution": {
     "iopub.execute_input": "2021-06-14T11:40:16.146693Z",
     "iopub.status.busy": "2021-06-14T11:40:16.146328Z",
     "iopub.status.idle": "2021-06-14T11:40:23.379768Z",
     "shell.execute_reply": "2021-06-14T11:40:23.378791Z",
     "shell.execute_reply.started": "2021-06-14T11:40:16.146660Z"
    },
    "executionInfo": {
     "elapsed": 17726,
     "status": "ok",
     "timestamp": 1623669624633,
     "user": {
      "displayName": "Rabin Nepal",
      "photoUrl": "https://lh3.googleusercontent.com/a-/AOh14GhdTUBYFK7fC1_QhaCcXhcbdkDRn108GzrW-dhwOJ0=s64",
      "userId": "05311906977658749647"
     },
     "user_tz": -345
    },
    "id": "CWxsdJ566u5P",
    "outputId": "31d80cdc-b717-4e2c-cec6-82728f239fa2"
   },
   "outputs": [
    {
     "name": "stdout",
     "output_type": "stream",
     "text": [
      "Fetching filtered data from pickle file ...\n",
      "Done!\n"
     ]
    }
   ],
   "source": [
    "print(\"Fetching filtered data from pickle file ...\")\n",
    "all_data_filtered = pickle.load(open(DATA_PATH,\"rb\"))\n",
    "print(\"Done!\")"
   ]
  },
  {
   "cell_type": "code",
   "execution_count": 15,
   "metadata": {
    "execution": {
     "iopub.execute_input": "2021-06-14T11:40:24.691254Z",
     "iopub.status.busy": "2021-06-14T11:40:24.690772Z",
     "iopub.status.idle": "2021-06-14T11:40:24.698346Z",
     "shell.execute_reply": "2021-06-14T11:40:24.697415Z",
     "shell.execute_reply.started": "2021-06-14T11:40:24.691210Z"
    },
    "executionInfo": {
     "elapsed": 1327,
     "status": "ok",
     "timestamp": 1623669631703,
     "user": {
      "displayName": "Rabin Nepal",
      "photoUrl": "https://lh3.googleusercontent.com/a-/AOh14GhdTUBYFK7fC1_QhaCcXhcbdkDRn108GzrW-dhwOJ0=s64",
      "userId": "05311906977658749647"
     },
     "user_tz": -345
    },
    "id": "DhHJzTZe6u5Q",
    "outputId": "8dd31934-ab3c-4d3f-8f00-3a2264dfd6cd"
   },
   "outputs": [
    {
     "name": "stdout",
     "output_type": "stream",
     "text": [
      "<class 'dict'>\n",
      "dict_keys(['data', 'speaker', 'session', 'labels'])\n",
      "[6525, 6525, 6525, 6525]\n"
     ]
    }
   ],
   "source": [
    "print(type(all_data_filtered))\n",
    "print(all_data_filtered.keys())\n",
    "print([len(x[-1]) for x in all_data_filtered.items()])"
   ]
  },
  {
   "cell_type": "code",
   "execution_count": 16,
   "metadata": {
    "execution": {
     "iopub.execute_input": "2021-06-14T11:40:27.127766Z",
     "iopub.status.busy": "2021-06-14T11:40:27.127433Z",
     "iopub.status.idle": "2021-06-14T11:40:27.362015Z",
     "shell.execute_reply": "2021-06-14T11:40:27.361049Z",
     "shell.execute_reply.started": "2021-06-14T11:40:27.127733Z"
    },
    "executionInfo": {
     "elapsed": 5,
     "status": "ok",
     "timestamp": 1623669635865,
     "user": {
      "displayName": "Rabin Nepal",
      "photoUrl": "https://lh3.googleusercontent.com/a-/AOh14GhdTUBYFK7fC1_QhaCcXhcbdkDRn108GzrW-dhwOJ0=s64",
      "userId": "05311906977658749647"
     },
     "user_tz": -345
    },
    "id": "D6ucalvE6u5R",
    "outputId": "310d12e7-4416-4cc3-c36e-8c412b0e8b5e"
   },
   "outputs": [
    {
     "name": "stdout",
     "output_type": "stream",
     "text": [
      "(6525, 1648, 8)\n"
     ]
    }
   ],
   "source": [
    "print(np.array(all_data_filtered[\"data\"]).shape)"
   ]
  },
  {
   "cell_type": "markdown",
   "metadata": {
    "id": "Qx4Nww6OASv4"
   },
   "source": [
    "## PREPARE DATASET"
   ]
  },
  {
   "cell_type": "code",
   "execution_count": 17,
   "metadata": {
    "execution": {
     "iopub.execute_input": "2021-06-14T11:40:30.168965Z",
     "iopub.status.busy": "2021-06-14T11:40:30.168633Z",
     "iopub.status.idle": "2021-06-14T11:40:30.177072Z",
     "shell.execute_reply": "2021-06-14T11:40:30.176023Z",
     "shell.execute_reply.started": "2021-06-14T11:40:30.168934Z"
    },
    "executionInfo": {
     "elapsed": 776,
     "status": "ok",
     "timestamp": 1623669641147,
     "user": {
      "displayName": "Rabin Nepal",
      "photoUrl": "https://lh3.googleusercontent.com/a-/AOh14GhdTUBYFK7fC1_QhaCcXhcbdkDRn108GzrW-dhwOJ0=s64",
      "userId": "05311906977658749647"
     },
     "user_tz": -345
    },
    "id": "zwbd30Ka6u5S"
   },
   "outputs": [],
   "source": [
    "def prepare_dataset(all_data_filtered,K_FOLD=False):\n",
    "    data = all_data_filtered[\"data\"]\n",
    "    labels = all_data_filtered[\"labels\"]\n",
    "\n",
    "    encoder = LabelEncoder()\n",
    "    encoded_labels = encoder.fit_transform(labels).astype('float64')\n",
    "\n",
    "    print(encoded_labels[:10])\n",
    "    print(all_data_filtered[\"labels\"][:10])\n",
    "\n",
    "    X = np.array(data)\n",
    "    Y = encoded_labels\n",
    "    \n",
    "    if(K_FOLD==True):\n",
    "        return X,Y\n",
    "    \n",
    "    splitter = StratifiedShuffleSplit(n_splits=1,test_size=0.1, random_state=42)\n",
    "\n",
    "    # train test split\n",
    "    train_id, test_id = next(splitter.split(X,Y))\n",
    "    X_train,y_train,X_test,y_test = X[train_id],Y[train_id],X[test_id],Y[test_id]\n",
    "\n",
    "    \n",
    "    # train val split\n",
    "    train_id, test_id = next(splitter.split(X_train,y_train))\n",
    "    X_train,y_train,X_val,y_val = X_train[train_id],y_train[train_id],X_train[test_id],y_train[test_id]\n",
    "    print(\"Shape of data instance: \", X_train[0].shape)\n",
    "    print(\"Shape of Training data: \",X_train.shape)\n",
    "    print(\"Shape of Testing data: \",X_test.shape)\n",
    "\n",
    "    return X_train,y_train,X_val,y_val,X_test,y_test"
   ]
  },
  {
   "cell_type": "code",
   "execution_count": 18,
   "metadata": {
    "execution": {
     "iopub.execute_input": "2021-06-14T11:40:30.897920Z",
     "iopub.status.busy": "2021-06-14T11:40:30.897599Z",
     "iopub.status.idle": "2021-06-14T11:40:31.527956Z",
     "shell.execute_reply": "2021-06-14T11:40:31.526978Z",
     "shell.execute_reply.started": "2021-06-14T11:40:30.897888Z"
    },
    "executionInfo": {
     "elapsed": 1596,
     "status": "ok",
     "timestamp": 1623670069206,
     "user": {
      "displayName": "Rabin Nepal",
      "photoUrl": "https://lh3.googleusercontent.com/a-/AOh14GhdTUBYFK7fC1_QhaCcXhcbdkDRn108GzrW-dhwOJ0=s64",
      "userId": "05311906977658749647"
     },
     "user_tz": -345
    },
    "id": "s3eJziBs6u5T",
    "outputId": "3a51f823-80e2-4403-ba78-ec684718687e"
   },
   "outputs": [
    {
     "name": "stdout",
     "output_type": "stream",
     "text": [
      "[4. 1. 2. 3. 0. 4. 1. 2. 3. 0.]\n",
      "['बत्तिको अवस्था बदल', 'आजको मौसम बताउ', 'एउटा सङ्गित बजाउ', 'पङ्खाको स्तिथी बदल', 'अबको समय सुनाउ', 'बत्तिको अवस्था बदल', 'आजको मौसम बताउ', 'एउटा सङ्गित बजाउ', 'पङ्खाको स्तिथी बदल', 'अबको समय सुनाउ']\n",
      "Shape of data instance:  (1648, 8)\n",
      "Shape of Training data:  (5284, 1648, 8)\n",
      "Shape of Testing data:  (653, 1648, 8)\n",
      "Shape of Input Shape:  (1648, 8)\n"
     ]
    }
   ],
   "source": [
    "X_train,y_train,X_val,y_val,X_test,y_test = prepare_dataset(all_data_filtered)\n",
    "INPUT_SHAPE = X_train[0].shape \n",
    "print(\"Shape of Input Shape: \",INPUT_SHAPE)\n"
   ]
  },
  {
   "cell_type": "markdown",
   "metadata": {
    "id": "8QWwWZ_KAigm"
   },
   "source": [
    "## TRAIN MODEL"
   ]
  },
  {
   "cell_type": "markdown",
   "metadata": {
    "id": "3IqZZ1_4E7K8"
   },
   "source": [
    "### 1D CNN (on filtered data)"
   ]
  },
  {
   "cell_type": "code",
   "execution_count": 19,
   "metadata": {
    "execution": {
     "iopub.execute_input": "2021-06-14T11:40:34.829603Z",
     "iopub.status.busy": "2021-06-14T11:40:34.829276Z",
     "iopub.status.idle": "2021-06-14T11:40:34.840969Z",
     "shell.execute_reply": "2021-06-14T11:40:34.839944Z",
     "shell.execute_reply.started": "2021-06-14T11:40:34.829572Z"
    },
    "executionInfo": {
     "elapsed": 6,
     "status": "ok",
     "timestamp": 1623669648153,
     "user": {
      "displayName": "Rabin Nepal",
      "photoUrl": "https://lh3.googleusercontent.com/a-/AOh14GhdTUBYFK7fC1_QhaCcXhcbdkDRn108GzrW-dhwOJ0=s64",
      "userId": "05311906977658749647"
     },
     "user_tz": -345
    },
    "id": "KFL8d7_86u5W"
   },
   "outputs": [],
   "source": [
    "def CNN(INPUT_SHAPE,DROPOUT=0.3,learning_rate=0.0003,activation=\"relu\",neurons=64,K_regulizer=0.001):\n",
    "    model = keras.models.Sequential()\n",
    "    # 1st conv layer\n",
    "    model.add(keras.layers.Conv1D(64,(3),activation=\"relu\",input_shape=INPUT_SHAPE,\n",
    "                                  kernel_regularizer=tf.keras.regularizers.l2(K_regulizer)))\n",
    "    model.add(tf.keras.layers.BatchNormalization())\n",
    "    model.add(tf.keras.layers.MaxPooling1D((3), strides=(2), padding='same'))\n",
    "\n",
    "    # 2nd conv layer     \n",
    "    model.add(tf.keras.layers.Conv1D(32, (3), activation='relu',\n",
    "                                     kernel_regularizer=tf.keras.regularizers.l2(K_regulizer)))\n",
    "    model.add(tf.keras.layers.BatchNormalization())\n",
    "    model.add(tf.keras.layers.MaxPooling1D((3), strides=(2), padding='same'))\n",
    "\n",
    "    # 3rd conv layer\n",
    "    model.add(tf.keras.layers.Conv1D(32, (2), activation='relu',\n",
    "                                     kernel_regularizer=tf.keras.regularizers.l2(K_regulizer)))\n",
    "    model.add(tf.keras.layers.BatchNormalization())\n",
    "    model.add(tf.keras.layers.MaxPooling1D((2), strides=(2), padding='same'))\n",
    "\n",
    "    # flatten output and feed into dense layer\n",
    "    model.add(tf.keras.layers.Flatten())\n",
    "    tf.keras.layers.Dropout(DROPOUT)\n",
    "    \n",
    "    model.add(tf.keras.layers.Dense(64, activation='relu'))\n",
    "    tf.keras.layers.Dropout(DROPOUT)\n",
    "\n",
    "    # softmax output layer\n",
    "    model.add(tf.keras.layers.Dense(5, activation='softmax'))\n",
    "    \n",
    "    optimizer=keras.optimizers.Adam(learning_rate=learning_rate)\n",
    "\n",
    "    model.compile(optimizer=optimizer,loss=\"sparse_categorical_crossentropy\",metrics=[\"accuracy\"])\n",
    "#     print(model.summary())\n",
    "    return model\n",
    "        \n"
   ]
  },
  {
   "cell_type": "code",
   "execution_count": 20,
   "metadata": {
    "execution": {
     "iopub.execute_input": "2021-06-14T11:40:35.962401Z",
     "iopub.status.busy": "2021-06-14T11:40:35.962071Z",
     "iopub.status.idle": "2021-06-14T11:40:35.969810Z",
     "shell.execute_reply": "2021-06-14T11:40:35.968174Z",
     "shell.execute_reply.started": "2021-06-14T11:40:35.962371Z"
    },
    "executionInfo": {
     "elapsed": 4,
     "status": "ok",
     "timestamp": 1623670201038,
     "user": {
      "displayName": "Rabin Nepal",
      "photoUrl": "https://lh3.googleusercontent.com/a-/AOh14GhdTUBYFK7fC1_QhaCcXhcbdkDRn108GzrW-dhwOJ0=s64",
      "userId": "05311906977658749647"
     },
     "user_tz": -345
    },
    "id": "jlRxDCPhu4rU"
   },
   "outputs": [],
   "source": [
    "def run_model(model,X_train,y_train,X_val,y_val,EPOCHS=30,BATCH_SIZE=50,EARLY_STOP=True):\n",
    "    earlystop_callback = tf.keras.callbacks.EarlyStopping(monitor=\"accuracy\", min_delta=0.001, patience=5)\n",
    "    history = model.fit(X_train,y_train,epochs=30,batch_size=18,\n",
    "                        validation_data=(X_val,y_val),callbacks=[earlystop_callback])\n",
    "    return history,model"
   ]
  },
  {
   "cell_type": "code",
   "execution_count": 21,
   "metadata": {
    "execution": {
     "iopub.execute_input": "2021-06-14T11:40:38.356304Z",
     "iopub.status.busy": "2021-06-14T11:40:38.355966Z",
     "iopub.status.idle": "2021-06-14T11:41:09.859200Z",
     "shell.execute_reply": "2021-06-14T11:41:09.858394Z",
     "shell.execute_reply.started": "2021-06-14T11:40:38.356273Z"
    },
    "executionInfo": {
     "elapsed": 67605,
     "status": "error",
     "timestamp": 1623670272597,
     "user": {
      "displayName": "Rabin Nepal",
      "photoUrl": "https://lh3.googleusercontent.com/a-/AOh14GhdTUBYFK7fC1_QhaCcXhcbdkDRn108GzrW-dhwOJ0=s64",
      "userId": "05311906977658749647"
     },
     "user_tz": -345
    },
    "id": "dg_sQSlC6u5X",
    "outputId": "07563a34-e3a4-4eb2-9ea5-d11f31cfc26f"
   },
   "outputs": [
    {
     "name": "stdout",
     "output_type": "stream",
     "text": [
      "[4. 1. 2. 3. 0. 4. 1. 2. 3. 0.]\n",
      "['बत्तिको अवस्था बदल', 'आजको मौसम बताउ', 'एउटा सङ्गित बजाउ', 'पङ्खाको स्तिथी बदल', 'अबको समय सुनाउ', 'बत्तिको अवस्था बदल', 'आजको मौसम बताउ', 'एउटा सङ्गित बजाउ', 'पङ्खाको स्तिथी बदल', 'अबको समय सुनाउ']\n",
      "Shape of data instance:  (1648, 8)\n",
      "Shape of Training data:  (5284, 1648, 8)\n",
      "Shape of Testing data:  (653, 1648, 8)\n",
      "Shape of Input Shape:  (1648, 8)\n",
      "Epoch 1/30\n",
      "294/294 [==============================] - 6s 9ms/step - loss: 1.7200 - accuracy: 0.3849 - val_loss: 1.1374 - val_accuracy: 0.6003\n",
      "Epoch 2/30\n",
      "294/294 [==============================] - 2s 6ms/step - loss: 0.5887 - accuracy: 0.8377 - val_loss: 0.8310 - val_accuracy: 0.7279\n",
      "Epoch 3/30\n",
      "294/294 [==============================] - 2s 6ms/step - loss: 0.3184 - accuracy: 0.9377 - val_loss: 0.9080 - val_accuracy: 0.6786\n",
      "Epoch 4/30\n",
      "294/294 [==============================] - 2s 6ms/step - loss: 0.1971 - accuracy: 0.9785 - val_loss: 0.8050 - val_accuracy: 0.7636\n",
      "Epoch 5/30\n",
      "294/294 [==============================] - 2s 5ms/step - loss: 0.1445 - accuracy: 0.9940 - val_loss: 0.8990 - val_accuracy: 0.7194\n",
      "Epoch 6/30\n",
      "294/294 [==============================] - 2s 6ms/step - loss: 0.1244 - accuracy: 0.9945 - val_loss: 0.7388 - val_accuracy: 0.7891\n",
      "Epoch 7/30\n",
      "294/294 [==============================] - 2s 6ms/step - loss: 0.1107 - accuracy: 0.9970 - val_loss: 0.8031 - val_accuracy: 0.7687\n",
      "Epoch 8/30\n",
      "294/294 [==============================] - 2s 6ms/step - loss: 0.1015 - accuracy: 0.9978 - val_loss: 0.8447 - val_accuracy: 0.7568\n",
      "Epoch 9/30\n",
      "294/294 [==============================] - 2s 6ms/step - loss: 0.0981 - accuracy: 0.9988 - val_loss: 0.8565 - val_accuracy: 0.7653\n",
      "Epoch 10/30\n",
      "294/294 [==============================] - 2s 5ms/step - loss: 0.0869 - accuracy: 0.9999 - val_loss: 0.8664 - val_accuracy: 0.7636\n",
      "Epoch 11/30\n",
      "294/294 [==============================] - 2s 6ms/step - loss: 0.0927 - accuracy: 0.9977 - val_loss: 0.8539 - val_accuracy: 0.7772\n",
      "Epoch 12/30\n",
      "294/294 [==============================] - 2s 6ms/step - loss: 0.1305 - accuracy: 0.9811 - val_loss: 0.9195 - val_accuracy: 0.7670\n",
      "Epoch 13/30\n",
      "294/294 [==============================] - 2s 6ms/step - loss: 0.1916 - accuracy: 0.9607 - val_loss: 0.9480 - val_accuracy: 0.7789\n",
      "Epoch 14/30\n",
      "294/294 [==============================] - 2s 6ms/step - loss: 0.1267 - accuracy: 0.9833 - val_loss: 0.8157 - val_accuracy: 0.8027\n"
     ]
    }
   ],
   "source": [
    "X_train,y_train,X_val,y_val,X_test,y_test = prepare_dataset(all_data_filtered)\n",
    "INPUT_SHAPE = X_train[0].shape \n",
    "print(\"Shape of Input Shape: \",INPUT_SHAPE)\n",
    "model = CNN(INPUT_SHAPE)\n",
    "history,model = run_model(model,X_train,y_train,X_val,y_val)"
   ]
  },
  {
   "cell_type": "markdown",
   "metadata": {
    "id": "XAPiCn-76u5Y"
   },
   "source": [
    "test_loss, test_acc = model.evaluate(X_test, y_test)\n",
    "print(\"\\nTest loss: {}, test accuracy: {}\".format(test_loss, 100*test_acc))\n",
    "print(classification_report(y_pred=model.predict_classes(X_test),y_true=y_test))"
   ]
  },
  {
   "cell_type": "code",
   "execution_count": 24,
   "metadata": {
    "execution": {
     "iopub.execute_input": "2021-06-14T11:41:27.548307Z",
     "iopub.status.busy": "2021-06-14T11:41:27.547973Z",
     "iopub.status.idle": "2021-06-14T11:41:27.553121Z",
     "shell.execute_reply": "2021-06-14T11:41:27.551958Z",
     "shell.execute_reply.started": "2021-06-14T11:41:27.548276Z"
    },
    "id": "439fzRZdBV3x"
   },
   "outputs": [],
   "source": [
    "# splitter = StratifiedShuffleSplit(n_splits=1,test_size=0.4, random_state=21)\n",
    "\n",
    "# # testing random data from dataset\n",
    "# _, test_id = next(splitter.split(X,Y))\n",
    "# _,_,X_test_rand,y_test_rand = X[train_id],Y[train_id],X[test_id],Y[test_id]\n"
   ]
  },
  {
   "cell_type": "code",
   "execution_count": 25,
   "metadata": {
    "execution": {
     "iopub.execute_input": "2021-06-14T11:41:31.325198Z",
     "iopub.status.busy": "2021-06-14T11:41:31.324866Z",
     "iopub.status.idle": "2021-06-14T11:41:31.330730Z",
     "shell.execute_reply": "2021-06-14T11:41:31.327802Z",
     "shell.execute_reply.started": "2021-06-14T11:41:31.325170Z"
    },
    "executionInfo": {
     "elapsed": 2894,
     "status": "ok",
     "timestamp": 1623582267657,
     "user": {
      "displayName": "Rabin Nepal",
      "photoUrl": "https://lh3.googleusercontent.com/a-/AOh14GhdTUBYFK7fC1_QhaCcXhcbdkDRn108GzrW-dhwOJ0=s64",
      "userId": "05311906977658749647"
     },
     "user_tz": -345
    },
    "id": "IA7Nek78CauL",
    "outputId": "ea39967a-00a6-4719-d6b4-1272e0f62e1b"
   },
   "outputs": [],
   "source": [
    "# test_loss, test_acc = model.evaluate(X_test_rand, y_test_rand)\n",
    "# print(\"\\nTest loss: {}, test accuracy: {}\".format(test_loss, 100*test_acc))"
   ]
  },
  {
   "cell_type": "code",
   "execution_count": 26,
   "metadata": {
    "execution": {
     "iopub.execute_input": "2021-06-14T11:41:34.059689Z",
     "iopub.status.busy": "2021-06-14T11:41:34.059368Z",
     "iopub.status.idle": "2021-06-14T11:41:34.318448Z",
     "shell.execute_reply": "2021-06-14T11:41:34.317550Z",
     "shell.execute_reply.started": "2021-06-14T11:41:34.059659Z"
    },
    "executionInfo": {
     "elapsed": 845,
     "status": "ok",
     "timestamp": 1623583219350,
     "user": {
      "displayName": "Rabin Nepal",
      "photoUrl": "https://lh3.googleusercontent.com/a-/AOh14GhdTUBYFK7fC1_QhaCcXhcbdkDRn108GzrW-dhwOJ0=s64",
      "userId": "05311906977658749647"
     },
     "user_tz": -345
    },
    "id": "5K_slf6Z6u5Z",
    "outputId": "af861213-ae03-4bb4-af9c-cf172d02f3d5"
   },
   "outputs": [
    {
     "data": {
      "image/png": "[encoded data removed]",
      "text/plain": [
       "<Figure size 500x300 with 2 Axes>"
      ]
     },
     "metadata": {
      "needs_background": "light"
     },
     "output_type": "display_data"
    }
   ],
   "source": [
    "plt.subplot(121)\n",
    "plt.title(\"Loss Curve\")\n",
    "plt.plot(history.history[\"loss\"])\n",
    "plt.plot(history.history[\"val_loss\"])\n",
    "plt.legend([\"Loss\",\"Val Loss\"])\n",
    "\n",
    "plt.subplot(122)\n",
    "plt.title(\"Accuracy Curve\")\n",
    "plt.plot(history.history[\"accuracy\"])\n",
    "plt.plot(history.history[\"val_accuracy\"])\n",
    "plt.legend([\"accuracy\",\"Val accuracy\"])\n",
    "plt.show()"
   ]
  },
  {
   "cell_type": "code",
   "execution_count": null,
   "metadata": {
    "id": "1VI-rzyd6u5a"
   },
   "outputs": [],
   "source": [
    "plt.matshow(confusion_matrix(y_test,model.predict_classes(X_test),normalize=\"true\"),cmap=plt.cm.Reds,interpolation=\"nearest\")\n",
    "plt.yticks(range(len(SENTENCES)), SENTENCES,fontproperties=font)\n",
    "plt.xticks(range(len(SENTENCES)),SENTENCES, rotation = 45,fontproperties=font)\n",
    "cm = confusion_matrix(y_test,model.predict_classes(X_test))\n",
    "for i in range(len(SENTENCES)):\n",
    "    for j in range(len(SENTENCES)):\n",
    "        if(i==j):\n",
    "            color = \"w\" \n",
    "        else:\n",
    "            color =\"black\"\n",
    "        plt.text(j,i, cm[i][j],horizontalalignment='center',verticalalignment='center',color=color)\n",
    "plt.show()"
   ]
  },
  {
   "cell_type": "markdown",
   "metadata": {
    "id": "m2cOA_Y8GriF"
   },
   "source": [
    "### 1D CNN + RNN (on filtered data)"
   ]
  },
  {
   "cell_type": "code",
   "execution_count": 27,
   "metadata": {
    "execution": {
     "iopub.execute_input": "2021-06-14T11:41:43.031922Z",
     "iopub.status.busy": "2021-06-14T11:41:43.031561Z",
     "iopub.status.idle": "2021-06-14T11:41:43.661640Z",
     "shell.execute_reply": "2021-06-14T11:41:43.660712Z",
     "shell.execute_reply.started": "2021-06-14T11:41:43.031888Z"
    },
    "executionInfo": {
     "elapsed": 1286,
     "status": "ok",
     "timestamp": 1623584095817,
     "user": {
      "displayName": "Rabin Nepal",
      "photoUrl": "https://lh3.googleusercontent.com/a-/AOh14GhdTUBYFK7fC1_QhaCcXhcbdkDRn108GzrW-dhwOJ0=s64",
      "userId": "05311906977658749647"
     },
     "user_tz": -345
    },
    "id": "s82osfyHGwRC",
    "outputId": "5cb13251-0cd3-4783-c591-dc1b3dd17304"
   },
   "outputs": [
    {
     "name": "stdout",
     "output_type": "stream",
     "text": [
      "[4. 1. 2. 3. 0. 4. 1. 2. 3. 0.]\n",
      "['बत्तिको अवस्था बदल', 'आजको मौसम बताउ', 'एउटा सङ्गित बजाउ', 'पङ्खाको स्तिथी बदल', 'अबको समय सुनाउ', 'बत्तिको अवस्था बदल', 'आजको मौसम बताउ', 'एउटा सङ्गित बजाउ', 'पङ्खाको स्तिथी बदल', 'अबको समय सुनाउ']\n",
      "Shape of data instance:  (1648, 8)\n",
      "Shape of Training data:  (5284, 1648, 8)\n",
      "Shape of Testing data:  (653, 1648, 8)\n"
     ]
    }
   ],
   "source": [
    "X_train,y_train,X_val,y_val,X_test,y_test = prepare_dataset(all_data_filtered)\n",
    "INPUT_SHAPE = X_train[0].shape "
   ]
  },
  {
   "cell_type": "code",
   "execution_count": 61,
   "metadata": {
    "execution": {
     "iopub.execute_input": "2021-06-14T12:03:18.321115Z",
     "iopub.status.busy": "2021-06-14T12:03:18.320768Z",
     "iopub.status.idle": "2021-06-14T12:03:18.335229Z",
     "shell.execute_reply": "2021-06-14T12:03:18.334272Z",
     "shell.execute_reply.started": "2021-06-14T12:03:18.321082Z"
    }
   },
   "outputs": [],
   "source": [
    "def RNN(INPUT_SHAPE,DROPOUT=0.3,learning_rate=0.0003,activation=\"relu\",neurons=64,K_regulizer=0.001):\n",
    "\n",
    "    model = keras.models.Sequential()\n",
    "\n",
    "    # 1st conv layer\n",
    "    model.add(keras.layers.Conv1D(64,(3),activation=\"relu\",input_shape=INPUT_SHAPE,\n",
    "                                  kernel_regularizer=tf.keras.regularizers.l2(0.01)))\n",
    "    model.add(tf.keras.layers.BatchNormalization())\n",
    "    model.add(tf.keras.layers.MaxPooling1D((3), strides=(2), padding='same'))\n",
    "\n",
    "\n",
    "    model.add(tf.keras.layers.Conv1D(32, (3), activation='relu',\n",
    "                                     kernel_regularizer=tf.keras.regularizers.l2(0.001)))\n",
    "    model.add(tf.keras.layers.BatchNormalization())\n",
    "    model.add(tf.keras.layers.MaxPooling1D((3), strides=(2), padding='same'))\n",
    "\n",
    "    # 3rd conv layer\n",
    "    model.add(tf.keras.layers.Conv1D(32, (2), activation='relu',\n",
    "                                     kernel_regularizer=tf.keras.regularizers.l2(0.001)))\n",
    "    model.add(tf.keras.layers.BatchNormalization())\n",
    "    model.add(tf.keras.layers.MaxPooling1D((2), strides=(2), padding='same'))\n",
    "\n",
    "\n",
    "    model.add(LSTM(units = 50, return_sequences = True))\n",
    "    tf.keras.layers.Dropout(0.3)\n",
    "    model.add(LSTM(units = 50, return_sequences = True))\n",
    "    tf.keras.layers.Dropout(0.3)\n",
    "    model.add(LSTM(units = 50, return_sequences = True))\n",
    "    tf.keras.layers.Dropout(0.3)\n",
    "\n",
    "    model.add(tf.keras.layers.Flatten())\n",
    "\n",
    "    model.add(tf.keras.layers.Dense(64, activation='relu'))\n",
    "    tf.keras.layers.Dropout(0.3)\n",
    "\n",
    "    # softmax output layer\n",
    "    model.add(tf.keras.layers.Dense(5, activation='softmax'))\n",
    "        \n",
    "    optimizer=keras.optimizers.Adam(learning_rate=learning_rate)\n",
    "\n",
    "    model.compile(optimizer=optimizer,loss=\"sparse_categorical_crossentropy\",metrics=[\"accuracy\"])\n",
    "#     print(model.summary())\n",
    "    return model\n"
   ]
  },
  {
   "cell_type": "code",
   "execution_count": 73,
   "metadata": {
    "execution": {
     "iopub.execute_input": "2021-06-14T12:32:36.328128Z",
     "iopub.status.busy": "2021-06-14T12:32:36.327737Z",
     "iopub.status.idle": "2021-06-14T12:32:36.331773Z",
     "shell.execute_reply": "2021-06-14T12:32:36.330797Z",
     "shell.execute_reply.started": "2021-06-14T12:32:36.328095Z"
    }
   },
   "outputs": [],
   "source": [
    "X_train,y_train,X_val,y_val,X_test,y_test = prepare_dataset(all_data_filtered)\n",
    "INPUT_SHAPE = X_train[0].shape \n",
    "print(\"Shape of Input Shape: \",INPUT_SHAPE)\n",
    "model = RNN(INPUT_SHAPE)\n",
    "history,model = run_model(model,X_train,y_train,X_val,y_val)"
   ]
  },
  {
   "cell_type": "code",
   "execution_count": 59,
   "metadata": {
    "execution": {
     "iopub.execute_input": "2021-06-14T12:02:02.012869Z",
     "iopub.status.busy": "2021-06-14T12:02:02.012517Z",
     "iopub.status.idle": "2021-06-14T12:02:02.336547Z",
     "shell.execute_reply": "2021-06-14T12:02:02.335601Z",
     "shell.execute_reply.started": "2021-06-14T12:02:02.012812Z"
    },
    "executionInfo": {
     "elapsed": 6119,
     "status": "ok",
     "timestamp": 1623587895920,
     "user": {
      "displayName": "Rabin Nepal",
      "photoUrl": "https://lh3.googleusercontent.com/a-/AOh14GhdTUBYFK7fC1_QhaCcXhcbdkDRn108GzrW-dhwOJ0=s64",
      "userId": "05311906977658749647"
     },
     "user_tz": -345
    },
    "id": "p0FM5Lw1Rkec",
    "outputId": "309bc0b2-8719-41cd-8463-21d1de8aaf15"
   },
   "outputs": [
    {
     "name": "stdout",
     "output_type": "stream",
     "text": [
      "21/21 [==============================] - 0s 3ms/step - loss: 1.0523 - accuracy: 0.7626\n",
      "\n",
      "Test loss: 1.0523180961608887, test accuracy: 76.26339793205261\n",
      "              precision    recall  f1-score   support\n",
      "\n",
      "         0.0       0.78      0.80      0.79       131\n",
      "         1.0       0.64      0.92      0.75       130\n",
      "         2.0       0.82      0.72      0.77       131\n",
      "         3.0       0.87      0.68      0.76       131\n",
      "         4.0       0.79      0.69      0.74       130\n",
      "\n",
      "    accuracy                           0.76       653\n",
      "   macro avg       0.78      0.76      0.76       653\n",
      "weighted avg       0.78      0.76      0.76       653\n",
      "\n"
     ]
    },
    {
     "name": "stderr",
     "output_type": "stream",
     "text": [
      "/opt/conda/lib/python3.7/site-packages/tensorflow/python/keras/engine/sequential.py:450: UserWarning: `model.predict_classes()` is deprecated and will be removed after 2021-01-01. Please use instead:* `np.argmax(model.predict(x), axis=-1)`,   if your model does multi-class classification   (e.g. if it uses a `softmax` last-layer activation).* `(model.predict(x) > 0.5).astype(\"int32\")`,   if your model does binary classification   (e.g. if it uses a `sigmoid` last-layer activation).\n",
      "  warnings.warn('`model.predict_classes()` is deprecated and '\n"
     ]
    }
   ],
   "source": [
    "test_loss, test_acc = model.evaluate(X_test, y_test)\n",
    "print(\"\\nTest loss: {}, test accuracy: {}\".format(test_loss, 100*test_acc))\n",
    "print(classification_report(y_pred=model.predict_classes(X_test),y_true=y_test))"
   ]
  },
  {
   "cell_type": "code",
   "execution_count": 32,
   "metadata": {
    "execution": {
     "iopub.execute_input": "2021-06-14T11:43:24.411115Z",
     "iopub.status.busy": "2021-06-14T11:43:24.410740Z",
     "iopub.status.idle": "2021-06-14T11:43:24.416229Z",
     "shell.execute_reply": "2021-06-14T11:43:24.415199Z",
     "shell.execute_reply.started": "2021-06-14T11:43:24.411082Z"
    },
    "id": "27vZlqiPRkjO"
   },
   "outputs": [],
   "source": [
    "# model.save(\"1DCNN-3alyer-LSTM-3alyer-30EPOCH.h5\")"
   ]
  },
  {
   "cell_type": "code",
   "execution_count": 33,
   "metadata": {
    "execution": {
     "iopub.execute_input": "2021-06-14T11:43:24.820910Z",
     "iopub.status.busy": "2021-06-14T11:43:24.820613Z",
     "iopub.status.idle": "2021-06-14T11:43:25.064176Z",
     "shell.execute_reply": "2021-06-14T11:43:25.063342Z",
     "shell.execute_reply.started": "2021-06-14T11:43:24.820877Z"
    },
    "executionInfo": {
     "elapsed": 847,
     "status": "ok",
     "timestamp": 1623588010900,
     "user": {
      "displayName": "Rabin Nepal",
      "photoUrl": "https://lh3.googleusercontent.com/a-/AOh14GhdTUBYFK7fC1_QhaCcXhcbdkDRn108GzrW-dhwOJ0=s64",
      "userId": "05311906977658749647"
     },
     "user_tz": -345
    },
    "id": "1eWeN418Rk5l",
    "outputId": "bbf3dc07-566d-4618-9ac6-b74560464f52"
   },
   "outputs": [
    {
     "data": {
      "image/png": "[encoded data removed]",
      "text/plain": [
       "<Figure size 500x300 with 2 Axes>"
      ]
     },
     "metadata": {
      "needs_background": "light"
     },
     "output_type": "display_data"
    }
   ],
   "source": [
    "plt.subplot(121)\n",
    "plt.title(\"Loss Curve\")\n",
    "plt.plot(history.history[\"loss\"])\n",
    "plt.plot(history.history[\"val_loss\"])\n",
    "plt.legend([\"Loss\",\"Val Loss\"])\n",
    "\n",
    "plt.subplot(122)\n",
    "plt.title(\"Accuracy Curve\")\n",
    "plt.plot(history.history[\"accuracy\"])\n",
    "plt.plot(history.history[\"val_accuracy\"])\n",
    "plt.legend([\"accuracy\",\"Val accuracy\"])\n",
    "plt.show()"
   ]
  },
  {
   "cell_type": "markdown",
   "metadata": {
    "id": "_4UwYHhFaisq"
   },
   "source": [
    "### 2D CNN (with MFCC features)"
   ]
  },
  {
   "cell_type": "code",
   "execution_count": 40,
   "metadata": {
    "execution": {
     "iopub.execute_input": "2021-06-14T11:48:48.191981Z",
     "iopub.status.busy": "2021-06-14T11:48:48.191632Z",
     "iopub.status.idle": "2021-06-14T11:48:48.199344Z",
     "shell.execute_reply": "2021-06-14T11:48:48.198148Z",
     "shell.execute_reply.started": "2021-06-14T11:48:48.191947Z"
    },
    "id": "3YclxZ1hauha"
   },
   "outputs": [],
   "source": [
    "def extract_MFCC(all_data_filtered):\n",
    "    features = []\n",
    "\n",
    "    def MFCC(data,SR,n_mfcc=20,hop_length=80,n_fft=150):\n",
    "        mfcc = librosa.feature.mfcc(data,sr=SR,n_mfcc=n_mfcc,hop_length=hop_length,n_fft=n_fft)\n",
    "        return mfcc.T\n",
    "\n",
    "    for d,i in zip(all_data_filtered[\"data\"],tqdm.tqdm(range(1,len(all_data_filtered[\"data\"])+1),desc=\"Extracting MFCC\")):\n",
    "        mfccs = []\n",
    "        for i in range(8):\n",
    "            mfcc = MFCC(np.asfortranarray(d[:,i]),SR=250)\n",
    "            mfccs.append(mfcc)\n",
    "        features.append(mfccs)\n",
    "\n",
    "    shape = np.array(features).shape\n",
    "    print(shape)\n",
    "    return features\n",
    "    # pickle.dump(features,open(os.path.join(PICKLE_DIR,\"MFCC.pickle\"),\"wb\"))\n"
   ]
  },
  {
   "cell_type": "code",
   "execution_count": 35,
   "metadata": {
    "execution": {
     "iopub.execute_input": "2021-06-14T11:44:31.030774Z",
     "iopub.status.busy": "2021-06-14T11:44:31.030454Z",
     "iopub.status.idle": "2021-06-14T11:46:30.647207Z",
     "shell.execute_reply": "2021-06-14T11:46:30.646408Z",
     "shell.execute_reply.started": "2021-06-14T11:44:31.030744Z"
    },
    "executionInfo": {
     "elapsed": 126961,
     "status": "error",
     "timestamp": 1623599005836,
     "user": {
      "displayName": "Rabin Nepal",
      "photoUrl": "https://lh3.googleusercontent.com/a-/AOh14GhdTUBYFK7fC1_QhaCcXhcbdkDRn108GzrW-dhwOJ0=s64",
      "userId": "05311906977658749647"
     },
     "user_tz": -345
    },
    "id": "oEHTO0INdEFD",
    "outputId": "27099229-a078-4ab1-ad40-fa09e7a430bf"
   },
   "outputs": [
    {
     "name": "stderr",
     "output_type": "stream",
     "text": [
      "Extracting MFCC:   0%|          | 0/6525 [00:00<?, ?it/s]/opt/conda/lib/python3.7/site-packages/librosa/filters.py:239: UserWarning: Empty filters detected in mel frequency basis. Some channels will produce empty responses. Try increasing your sampling rate (and fmax) or reducing n_mels.\n",
      "  \"Empty filters detected in mel frequency basis. \"\n",
      "Extracting MFCC: 100%|█████████▉| 6524/6525 [01:59<00:00, 54.69it/s]\n"
     ]
    },
    {
     "name": "stdout",
     "output_type": "stream",
     "text": [
      "(6525, 8, 28, 22)\n"
     ]
    }
   ],
   "source": [
    "features= extract_MFCC(all_data_filtered)\n",
    "features = np.array(features)\n",
    "features = features.reshape(-1,features.shape[-2],features.shape[-1],8)\n",
    "feature_dict = {\"data\":features,\"labels\":all_data_filtered[\"labels\"]}\n"
   ]
  },
  {
   "cell_type": "code",
   "execution_count": 36,
   "metadata": {
    "execution": {
     "iopub.execute_input": "2021-06-14T11:46:44.231353Z",
     "iopub.status.busy": "2021-06-14T11:46:44.230945Z",
     "iopub.status.idle": "2021-06-14T11:46:44.412215Z",
     "shell.execute_reply": "2021-06-14T11:46:44.411388Z",
     "shell.execute_reply.started": "2021-06-14T11:46:44.231318Z"
    },
    "executionInfo": {
     "elapsed": 898,
     "status": "ok",
     "timestamp": 1623599051898,
     "user": {
      "displayName": "Rabin Nepal",
      "photoUrl": "https://lh3.googleusercontent.com/a-/AOh14GhdTUBYFK7fC1_QhaCcXhcbdkDRn108GzrW-dhwOJ0=s64",
      "userId": "05311906977658749647"
     },
     "user_tz": -345
    },
    "id": "x8rtI7YsC0mh",
    "outputId": "f23c2030-2bbe-45ac-ea92-9454cac7fe94"
   },
   "outputs": [
    {
     "name": "stdout",
     "output_type": "stream",
     "text": [
      "[4. 1. 2. 3. 0. 4. 1. 2. 3. 0.]\n",
      "['बत्तिको अवस्था बदल', 'आजको मौसम बताउ', 'एउटा सङ्गित बजाउ', 'पङ्खाको स्तिथी बदल', 'अबको समय सुनाउ', 'बत्तिको अवस्था बदल', 'आजको मौसम बताउ', 'एउटा सङ्गित बजाउ', 'पङ्खाको स्तिथी बदल', 'अबको समय सुनाउ']\n",
      "Shape of data instance:  (28, 22, 8)\n",
      "Shape of Training data:  (5284, 28, 22, 8)\n",
      "Shape of Testing data:  (653, 28, 22, 8)\n"
     ]
    }
   ],
   "source": [
    "X_train,y_train,X_val,y_val,X_test,y_test = prepare_dataset(feature_dict)\n",
    "INPUT_SHAPE = X_train[0].shape "
   ]
  },
  {
   "cell_type": "code",
   "execution_count": 37,
   "metadata": {
    "execution": {
     "iopub.execute_input": "2021-06-14T11:46:45.862201Z",
     "iopub.status.busy": "2021-06-14T11:46:45.861823Z",
     "iopub.status.idle": "2021-06-14T11:46:45.951201Z",
     "shell.execute_reply": "2021-06-14T11:46:45.950372Z",
     "shell.execute_reply.started": "2021-06-14T11:46:45.862170Z"
    },
    "id": "jFRIj_LnaXRl"
   },
   "outputs": [],
   "source": [
    "model = keras.models.Sequential()\n",
    "model.add(keras.layers.Conv2D(64,(3,3),activation=\"relu\",input_shape=INPUT_SHAPE,kernel_regularizer=tf.keras.regularizers.l2(0.001)))\n",
    "model.add(tf.keras.layers.BatchNormalization())\n",
    "model.add(tf.keras.layers.MaxPooling2D((3, 3), strides=(2,2), padding='same'))\n",
    "\n",
    "model.add(tf.keras.layers.Conv2D(32, (3, 3), activation='relu',\n",
    "                                 kernel_regularizer=tf.keras.regularizers.l2(0.001)))\n",
    "model.add(tf.keras.layers.BatchNormalization())\n",
    "model.add(tf.keras.layers.MaxPooling2D((3, 3), strides=(2,2), padding='same'))\n",
    "\n",
    "# # 3rd conv layer\n",
    "model.add(tf.keras.layers.Conv2D(32, (2, 2), activation='relu',\n",
    "                                 kernel_regularizer=tf.keras.regularizers.l2(0.001)))\n",
    "model.add(tf.keras.layers.BatchNormalization())\n",
    "model.add(tf.keras.layers.MaxPooling2D((2, 2), strides=(2,2), padding='same'))\n",
    "\n",
    "# flatten output and feed into dense layer\n",
    "model.add(tf.keras.layers.Flatten())\n",
    "tf.keras.layers.Dropout(0.3)\n",
    "model.add(tf.keras.layers.Dense(64, activation='relu'))\n",
    "tf.keras.layers.Dropout(0.3)\n",
    "\n",
    "# softmax output layer\n",
    "model.add(tf.keras.layers.Dense(10, activation='softmax'))"
   ]
  },
  {
   "cell_type": "code",
   "execution_count": 38,
   "metadata": {
    "execution": {
     "iopub.execute_input": "2021-06-14T11:46:46.902607Z",
     "iopub.status.busy": "2021-06-14T11:46:46.902301Z",
     "iopub.status.idle": "2021-06-14T11:46:46.920431Z",
     "shell.execute_reply": "2021-06-14T11:46:46.919013Z",
     "shell.execute_reply.started": "2021-06-14T11:46:46.902576Z"
    },
    "executionInfo": {
     "elapsed": 504,
     "status": "ok",
     "timestamp": 1623599078082,
     "user": {
      "displayName": "Rabin Nepal",
      "photoUrl": "https://lh3.googleusercontent.com/a-/AOh14GhdTUBYFK7fC1_QhaCcXhcbdkDRn108GzrW-dhwOJ0=s64",
      "userId": "05311906977658749647"
     },
     "user_tz": -345
    },
    "id": "xYr4oAr1aXVR",
    "outputId": "91b5b4bf-f423-42d6-e4bb-fe1fcf24242d"
   },
   "outputs": [
    {
     "name": "stdout",
     "output_type": "stream",
     "text": [
      "Model: \"sequential_2\"\n",
      "_________________________________________________________________\n",
      "Layer (type)                 Output Shape              Param #   \n",
      "=================================================================\n",
      "conv2d (Conv2D)              (None, 26, 20, 64)        4672      \n",
      "_________________________________________________________________\n",
      "batch_normalization_6 (Batch (None, 26, 20, 64)        256       \n",
      "_________________________________________________________________\n",
      "max_pooling2d (MaxPooling2D) (None, 13, 10, 64)        0         \n",
      "_________________________________________________________________\n",
      "conv2d_1 (Conv2D)            (None, 11, 8, 32)         18464     \n",
      "_________________________________________________________________\n",
      "batch_normalization_7 (Batch (None, 11, 8, 32)         128       \n",
      "_________________________________________________________________\n",
      "max_pooling2d_1 (MaxPooling2 (None, 6, 4, 32)          0         \n",
      "_________________________________________________________________\n",
      "conv2d_2 (Conv2D)            (None, 5, 3, 32)          4128      \n",
      "_________________________________________________________________\n",
      "batch_normalization_8 (Batch (None, 5, 3, 32)          128       \n",
      "_________________________________________________________________\n",
      "max_pooling2d_2 (MaxPooling2 (None, 3, 2, 32)          0         \n",
      "_________________________________________________________________\n",
      "flatten_2 (Flatten)          (None, 192)               0         \n",
      "_________________________________________________________________\n",
      "dense_4 (Dense)              (None, 64)                12352     \n",
      "_________________________________________________________________\n",
      "dense_5 (Dense)              (None, 10)                650       \n",
      "=================================================================\n",
      "Total params: 40,778\n",
      "Trainable params: 40,522\n",
      "Non-trainable params: 256\n",
      "_________________________________________________________________\n"
     ]
    }
   ],
   "source": [
    "model.compile(optimizer=\"Adam\",loss=\"sparse_categorical_crossentropy\",metrics=[\"accuracy\"])\n",
    "model.summary()\n",
    "earlystop_callback = tf.keras.callbacks.EarlyStopping(monitor=\"accuracy\", min_delta=0.001, patience=5)"
   ]
  },
  {
   "cell_type": "code",
   "execution_count": 39,
   "metadata": {
    "execution": {
     "iopub.execute_input": "2021-06-14T11:46:51.601990Z",
     "iopub.status.busy": "2021-06-14T11:46:51.601632Z",
     "iopub.status.idle": "2021-06-14T11:47:08.098755Z",
     "shell.execute_reply": "2021-06-14T11:47:08.098058Z",
     "shell.execute_reply.started": "2021-06-14T11:46:51.601955Z"
    },
    "executionInfo": {
     "elapsed": 323340,
     "status": "ok",
     "timestamp": 1623599405851,
     "user": {
      "displayName": "Rabin Nepal",
      "photoUrl": "https://lh3.googleusercontent.com/a-/AOh14GhdTUBYFK7fC1_QhaCcXhcbdkDRn108GzrW-dhwOJ0=s64",
      "userId": "05311906977658749647"
     },
     "user_tz": -345
    },
    "id": "ebyM6dsYaXcW",
    "outputId": "e86d001c-d355-4e2e-ed11-887af9fbb107"
   },
   "outputs": [
    {
     "name": "stdout",
     "output_type": "stream",
     "text": [
      "Epoch 1/30\n",
      "133/133 [==============================] - 1s 6ms/step - loss: 1.8745 - accuracy: 0.2019 - val_loss: 1.7109 - val_accuracy: 0.2126\n",
      "Epoch 2/30\n",
      "133/133 [==============================] - 1s 4ms/step - loss: 1.7094 - accuracy: 0.2245 - val_loss: 1.7556 - val_accuracy: 0.2041\n",
      "Epoch 3/30\n",
      "133/133 [==============================] - 1s 4ms/step - loss: 1.6853 - accuracy: 0.2528 - val_loss: 1.7044 - val_accuracy: 0.2160\n",
      "Epoch 4/30\n",
      "133/133 [==============================] - 1s 4ms/step - loss: 1.6706 - accuracy: 0.2598 - val_loss: 1.9016 - val_accuracy: 0.1990\n",
      "Epoch 5/30\n",
      "133/133 [==============================] - 1s 4ms/step - loss: 1.6685 - accuracy: 0.2757 - val_loss: 1.8495 - val_accuracy: 0.1990\n",
      "Epoch 6/30\n",
      "133/133 [==============================] - 1s 4ms/step - loss: 1.6326 - accuracy: 0.2978 - val_loss: 2.4143 - val_accuracy: 0.1990\n",
      "Epoch 7/30\n",
      "133/133 [==============================] - 1s 4ms/step - loss: 1.6666 - accuracy: 0.2631 - val_loss: 2.4249 - val_accuracy: 0.2007\n",
      "Epoch 8/30\n",
      "133/133 [==============================] - 1s 4ms/step - loss: 1.6407 - accuracy: 0.2825 - val_loss: 1.7246 - val_accuracy: 0.2534\n",
      "Epoch 9/30\n",
      "133/133 [==============================] - 1s 4ms/step - loss: 1.5704 - accuracy: 0.3288 - val_loss: 2.0550 - val_accuracy: 0.1990\n",
      "Epoch 10/30\n",
      "133/133 [==============================] - 1s 4ms/step - loss: 1.5445 - accuracy: 0.3406 - val_loss: 2.0441 - val_accuracy: 0.2007\n",
      "Epoch 11/30\n",
      "133/133 [==============================] - 1s 4ms/step - loss: 1.4530 - accuracy: 0.3811 - val_loss: 1.9791 - val_accuracy: 0.2228\n",
      "Epoch 12/30\n",
      "133/133 [==============================] - 1s 4ms/step - loss: 1.4456 - accuracy: 0.3840 - val_loss: 4.4747 - val_accuracy: 0.2041\n",
      "Epoch 13/30\n",
      "133/133 [==============================] - 1s 4ms/step - loss: 1.3939 - accuracy: 0.4152 - val_loss: 4.6299 - val_accuracy: 0.2024\n",
      "Epoch 14/30\n",
      "133/133 [==============================] - 1s 4ms/step - loss: 1.3323 - accuracy: 0.4660 - val_loss: 1.8758 - val_accuracy: 0.3112\n",
      "Epoch 15/30\n",
      "133/133 [==============================] - 1s 4ms/step - loss: 1.2346 - accuracy: 0.5130 - val_loss: 2.3552 - val_accuracy: 0.2092\n",
      "Epoch 16/30\n",
      "133/133 [==============================] - 1s 5ms/step - loss: 1.1947 - accuracy: 0.5280 - val_loss: 2.6475 - val_accuracy: 0.2857\n",
      "Epoch 17/30\n",
      "133/133 [==============================] - 1s 4ms/step - loss: 1.1670 - accuracy: 0.5404 - val_loss: 2.6684 - val_accuracy: 0.2330\n",
      "Epoch 18/30\n",
      "133/133 [==============================] - 1s 4ms/step - loss: 1.0751 - accuracy: 0.5891 - val_loss: 1.5669 - val_accuracy: 0.3707\n",
      "Epoch 19/30\n",
      "133/133 [==============================] - 1s 4ms/step - loss: 0.9818 - accuracy: 0.6488 - val_loss: 3.1978 - val_accuracy: 0.2993\n",
      "Epoch 20/30\n",
      "133/133 [==============================] - 1s 4ms/step - loss: 0.9800 - accuracy: 0.6419 - val_loss: 3.9656 - val_accuracy: 0.2194\n",
      "Epoch 21/30\n",
      "133/133 [==============================] - 1s 4ms/step - loss: 0.9528 - accuracy: 0.6575 - val_loss: 4.3099 - val_accuracy: 0.2687\n",
      "Epoch 22/30\n",
      "133/133 [==============================] - 1s 4ms/step - loss: 0.9050 - accuracy: 0.6766 - val_loss: 2.4315 - val_accuracy: 0.3095\n",
      "Epoch 23/30\n",
      "133/133 [==============================] - 1s 4ms/step - loss: 0.8932 - accuracy: 0.6844 - val_loss: 1.8542 - val_accuracy: 0.3537\n",
      "Epoch 24/30\n",
      "133/133 [==============================] - 1s 4ms/step - loss: 0.8709 - accuracy: 0.6963 - val_loss: 1.1297 - val_accuracy: 0.5612\n",
      "Epoch 25/30\n",
      "133/133 [==============================] - 1s 4ms/step - loss: 0.7751 - accuracy: 0.7273 - val_loss: 3.8596 - val_accuracy: 0.2721\n",
      "Epoch 26/30\n",
      "133/133 [==============================] - 1s 4ms/step - loss: 0.8048 - accuracy: 0.7288 - val_loss: 1.1693 - val_accuracy: 0.5629\n",
      "Epoch 27/30\n",
      "133/133 [==============================] - 1s 4ms/step - loss: 0.7595 - accuracy: 0.7456 - val_loss: 2.5713 - val_accuracy: 0.3384\n",
      "Epoch 28/30\n",
      "133/133 [==============================] - 1s 4ms/step - loss: 0.7436 - accuracy: 0.7480 - val_loss: 5.1383 - val_accuracy: 0.3112\n",
      "Epoch 29/30\n",
      "133/133 [==============================] - 1s 4ms/step - loss: 0.7632 - accuracy: 0.7356 - val_loss: 1.9894 - val_accuracy: 0.3878\n",
      "Epoch 30/30\n",
      "133/133 [==============================] - 1s 4ms/step - loss: 0.7525 - accuracy: 0.7476 - val_loss: 1.3011 - val_accuracy: 0.5272\n"
     ]
    }
   ],
   "source": [
    "history = model.fit(X_train,y_train,epochs=30,batch_size=40,validation_data=(X_val,y_val),callbacks=[earlystop_callback])"
   ]
  },
  {
   "cell_type": "code",
   "execution_count": 41,
   "metadata": {
    "execution": {
     "iopub.execute_input": "2021-06-14T11:48:59.480872Z",
     "iopub.status.busy": "2021-06-14T11:48:59.480498Z",
     "iopub.status.idle": "2021-06-14T11:48:59.823036Z",
     "shell.execute_reply": "2021-06-14T11:48:59.822224Z",
     "shell.execute_reply.started": "2021-06-14T11:48:59.480810Z"
    },
    "executionInfo": {
     "elapsed": 8,
     "status": "error",
     "timestamp": 1623589613251,
     "user": {
      "displayName": "Rabin Nepal",
      "photoUrl": "https://lh3.googleusercontent.com/a-/AOh14GhdTUBYFK7fC1_QhaCcXhcbdkDRn108GzrW-dhwOJ0=s64",
      "userId": "05311906977658749647"
     },
     "user_tz": -345
    },
    "id": "wqQxThb4c_tF",
    "outputId": "b9633d7a-0b3d-4b41-c93e-1f516ea9073b"
   },
   "outputs": [
    {
     "name": "stdout",
     "output_type": "stream",
     "text": [
      "21/21 [==============================] - 0s 3ms/step - loss: 1.1909 - accuracy: 0.5697\n",
      "\n",
      "Test loss: 1.1908795833587646, test accuracy: 56.96784257888794\n",
      "              precision    recall  f1-score   support\n",
      "\n",
      "         0.0       0.49      0.65      0.56       131\n",
      "         1.0       0.79      0.28      0.42       130\n",
      "         2.0       0.51      0.82      0.63       131\n",
      "         3.0       0.69      0.65      0.67       131\n",
      "         4.0       0.58      0.44      0.50       130\n",
      "\n",
      "    accuracy                           0.57       653\n",
      "   macro avg       0.61      0.57      0.56       653\n",
      "weighted avg       0.61      0.57      0.56       653\n",
      "\n"
     ]
    },
    {
     "name": "stderr",
     "output_type": "stream",
     "text": [
      "/opt/conda/lib/python3.7/site-packages/tensorflow/python/keras/engine/sequential.py:450: UserWarning: `model.predict_classes()` is deprecated and will be removed after 2021-01-01. Please use instead:* `np.argmax(model.predict(x), axis=-1)`,   if your model does multi-class classification   (e.g. if it uses a `softmax` last-layer activation).* `(model.predict(x) > 0.5).astype(\"int32\")`,   if your model does binary classification   (e.g. if it uses a `sigmoid` last-layer activation).\n",
      "  warnings.warn('`model.predict_classes()` is deprecated and '\n"
     ]
    }
   ],
   "source": [
    "test_loss, test_acc = model.evaluate(X_test, y_test)\n",
    "print(\"\\nTest loss: {}, test accuracy: {}\".format(test_loss, 100*test_acc))\n",
    "print(classification_report(y_pred=model.predict_classes(X_test),y_true=y_test))"
   ]
  },
  {
   "cell_type": "code",
   "execution_count": 42,
   "metadata": {
    "execution": {
     "iopub.execute_input": "2021-06-14T11:49:25.084812Z",
     "iopub.status.busy": "2021-06-14T11:49:25.084492Z",
     "iopub.status.idle": "2021-06-14T11:49:25.335862Z",
     "shell.execute_reply": "2021-06-14T11:49:25.334978Z",
     "shell.execute_reply.started": "2021-06-14T11:49:25.084782Z"
    }
   },
   "outputs": [
    {
     "data": {
      "image/png": "[encoded data removed]",
      "text/plain": [
       "<Figure size 500x300 with 2 Axes>"
      ]
     },
     "metadata": {
      "needs_background": "light"
     },
     "output_type": "display_data"
    }
   ],
   "source": [
    "plt.subplot(121)\n",
    "plt.title(\"Loss Curve\")\n",
    "plt.plot(history.history[\"loss\"])\n",
    "plt.plot(history.history[\"val_loss\"])\n",
    "plt.legend([\"Loss\",\"Val Loss\"])\n",
    "\n",
    "plt.subplot(122)\n",
    "plt.title(\"Accuracy Curve\")\n",
    "plt.plot(history.history[\"accuracy\"])\n",
    "plt.plot(history.history[\"val_accuracy\"])\n",
    "plt.legend([\"accuracy\",\"Val accuracy\"])\n",
    "plt.show()"
   ]
  },
  {
   "cell_type": "markdown",
   "metadata": {
    "id": "lYnbBNV7EBae"
   },
   "source": [
    "## 10 FOLD CROSS-VALIDATION"
   ]
  },
  {
   "cell_type": "code",
   "execution_count": 66,
   "metadata": {
    "execution": {
     "iopub.execute_input": "2021-06-14T12:28:58.891852Z",
     "iopub.status.busy": "2021-06-14T12:28:58.891510Z",
     "iopub.status.idle": "2021-06-14T12:28:58.900236Z",
     "shell.execute_reply": "2021-06-14T12:28:58.899076Z",
     "shell.execute_reply.started": "2021-06-14T12:28:58.891807Z"
    },
    "executionInfo": {
     "elapsed": 452,
     "status": "ok",
     "timestamp": 1623667757884,
     "user": {
      "displayName": "Rabin Nepal",
      "photoUrl": "https://lh3.googleusercontent.com/a-/AOh14GhdTUBYFK7fC1_QhaCcXhcbdkDRn108GzrW-dhwOJ0=s64",
      "userId": "05311906977658749647"
     },
     "user_tz": -345
    },
    "id": "wwpC0AIp6u5d"
   },
   "outputs": [],
   "source": [
    "def K_fold_CV(all_data_filtered,which_model,K=10):\n",
    "    kfold = StratifiedKFold(n_splits=K)\n",
    "    earlystop_callback = tf.keras.callbacks.EarlyStopping(monitor=\"accuracy\", min_delta=0.001, patience=8)\n",
    "    X_new,Y_new = prepare_dataset(all_data_filtered,K_FOLD=True)\n",
    "    INPUT_SHAPE = X_new[0].shape \n",
    "    print(\"Shape of Input Shape: \",INPUT_SHAPE)\n",
    "    acc = []\n",
    "    count = 1\n",
    "    for train_id,test_id in kfold.split(X_new,Y_new):\n",
    "        print(\"Running Fold \"+str(count)+\" ... \")\n",
    "        count+=1\n",
    "#         model = CNN(INPUT_SHAPE)\n",
    "#         model = RNN(INPUT_SHAPE)\n",
    "        model = which_model(INPUT_SHAPE)\n",
    "        history = model.fit(X_new[train_id],Y_new[train_id],epochs=30,batch_size=40,callbacks=[earlystop_callback],verbose=0)\n",
    "        accuracy = model.evaluate(X_new[test_id],Y_new[test_id])[-1]\n",
    "        acc.append(accuracy)\n",
    "    return np.array(acc)"
   ]
  },
  {
   "cell_type": "code",
   "execution_count": 46,
   "metadata": {
    "execution": {
     "iopub.execute_input": "2021-06-14T11:50:15.956400Z",
     "iopub.status.busy": "2021-06-14T11:50:15.956085Z",
     "iopub.status.idle": "2021-06-14T11:52:56.711471Z",
     "shell.execute_reply": "2021-06-14T11:52:56.710733Z",
     "shell.execute_reply.started": "2021-06-14T11:50:15.956370Z"
    },
    "executionInfo": {
     "elapsed": 3287,
     "status": "error",
     "timestamp": 1623669063424,
     "user": {
      "displayName": "Rabin Nepal",
      "photoUrl": "https://lh3.googleusercontent.com/a-/AOh14GhdTUBYFK7fC1_QhaCcXhcbdkDRn108GzrW-dhwOJ0=s64",
      "userId": "05311906977658749647"
     },
     "user_tz": -345
    },
    "id": "t-tKzje-6u5e",
    "outputId": "bd2bb63f-6647-4a8d-b048-ec9a068b5ad6"
   },
   "outputs": [
    {
     "name": "stdout",
     "output_type": "stream",
     "text": [
      "[4. 1. 2. 3. 0. 4. 1. 2. 3. 0.]\n",
      "['बत्तिको अवस्था बदल', 'आजको मौसम बताउ', 'एउटा सङ्गित बजाउ', 'पङ्खाको स्तिथी बदल', 'अबको समय सुनाउ', 'बत्तिको अवस्था बदल', 'आजको मौसम बताउ', 'एउटा सङ्गित बजाउ', 'पङ्खाको स्तिथी बदल', 'अबको समय सुनाउ']\n",
      "Shape of Input Shape:  (1648, 8)\n",
      "Running Fold 1 ... \n",
      "21/21 [==============================] - 0s 4ms/step - loss: 1.9430 - accuracy: 0.5544\n",
      "Running Fold 2 ... \n",
      "21/21 [==============================] - 0s 3ms/step - loss: 1.3625 - accuracy: 0.6263\n",
      "Running Fold 3 ... \n",
      "21/21 [==============================] - 0s 3ms/step - loss: 2.5072 - accuracy: 0.4946\n",
      "Running Fold 4 ... \n",
      "21/21 [==============================] - 0s 3ms/step - loss: 1.5169 - accuracy: 0.6110\n",
      "Running Fold 5 ... \n",
      "21/21 [==============================] - 0s 3ms/step - loss: 1.5006 - accuracy: 0.6172\n",
      "Running Fold 6 ... \n",
      "21/21 [==============================] - 0s 3ms/step - loss: 2.2167 - accuracy: 0.5031\n",
      "Running Fold 7 ... \n",
      "21/21 [==============================] - 0s 3ms/step - loss: 1.9687 - accuracy: 0.6411\n",
      "Running Fold 8 ... \n",
      "21/21 [==============================] - 0s 3ms/step - loss: 1.5169 - accuracy: 0.6212\n",
      "Running Fold 9 ... \n",
      "21/21 [==============================] - 0s 3ms/step - loss: 1.8922 - accuracy: 0.5767\n",
      "Running Fold 10 ... \n",
      "21/21 [==============================] - 0s 3ms/step - loss: 2.0667 - accuracy: 0.5107\n"
     ]
    }
   ],
   "source": [
    "acc = K_fold_CV(all_data_filtered,CNN)"
   ]
  },
  {
   "cell_type": "code",
   "execution_count": 47,
   "metadata": {
    "execution": {
     "iopub.execute_input": "2021-06-14T11:55:23.092927Z",
     "iopub.status.busy": "2021-06-14T11:55:23.092584Z",
     "iopub.status.idle": "2021-06-14T11:55:23.103450Z",
     "shell.execute_reply": "2021-06-14T11:55:23.102471Z",
     "shell.execute_reply.started": "2021-06-14T11:55:23.092885Z"
    },
    "id": "37OQedjP6u5e"
   },
   "outputs": [
    {
     "name": "stdout",
     "output_type": "stream",
     "text": [
      "[0.55436444 0.62633997 0.49464011 0.61102605 0.61715162 0.50306749\n",
      " 0.64110428 0.62116563 0.5766871  0.51073617]\n"
     ]
    }
   ],
   "source": [
    "print(acc)"
   ]
  },
  {
   "cell_type": "code",
   "execution_count": 55,
   "metadata": {
    "execution": {
     "iopub.execute_input": "2021-06-14T11:59:44.433646Z",
     "iopub.status.busy": "2021-06-14T11:59:44.433303Z",
     "iopub.status.idle": "2021-06-14T11:59:44.532934Z",
     "shell.execute_reply": "2021-06-14T11:59:44.532070Z",
     "shell.execute_reply.started": "2021-06-14T11:59:44.433613Z"
    },
    "id": "L6hcyYe-6u5e"
   },
   "outputs": [
    {
     "data": {
      "image/png": "[encoded data removed]",
      "text/plain": [
       "<Figure size 500x300 with 1 Axes>"
      ]
     },
     "metadata": {
      "needs_background": "light"
     },
     "output_type": "display_data"
    }
   ],
   "source": [
    "plt.title(\"10 Fold 1D CNN with Filtered Input Data\")\n",
    "plt.boxplot(acc)\n",
    "plt.ylim(0.45,0.7)\n",
    "plt.grid(axis=\"y\")\n",
    "plt.show()"
   ]
  },
  {
   "cell_type": "code",
   "execution_count": 63,
   "metadata": {
    "execution": {
     "iopub.execute_input": "2021-06-14T12:05:30.531002Z",
     "iopub.status.busy": "2021-06-14T12:05:30.530652Z",
     "iopub.status.idle": "2021-06-14T12:26:07.001808Z",
     "shell.execute_reply": "2021-06-14T12:26:07.000983Z",
     "shell.execute_reply.started": "2021-06-14T12:05:30.530965Z"
    },
    "id": "kuAxdvTA6u5e"
   },
   "outputs": [
    {
     "name": "stdout",
     "output_type": "stream",
     "text": [
      "[4. 1. 2. 3. 0. 4. 1. 2. 3. 0.]\n",
      "['बत्तिको अवस्था बदल', 'आजको मौसम बताउ', 'एउटा सङ्गित बजाउ', 'पङ्खाको स्तिथी बदल', 'अबको समय सुनाउ', 'बत्तिको अवस्था बदल', 'आजको मौसम बताउ', 'एउटा सङ्गित बजाउ', 'पङ्खाको स्तिथी बदल', 'अबको समय सुनाउ']\n",
      "Shape of Input Shape:  (1648, 8)\n",
      "Running Fold 1 ... \n",
      "21/21 [==============================] - 1s 13ms/step - loss: 0.9186 - accuracy: 0.8147\n",
      "Running Fold 2 ... \n",
      "21/21 [==============================] - 1s 13ms/step - loss: 0.3415 - accuracy: 0.9204\n",
      "Running Fold 3 ... \n",
      "21/21 [==============================] - 2s 12ms/step - loss: 0.6543 - accuracy: 0.8285\n",
      "Running Fold 4 ... \n",
      "21/21 [==============================] - 1s 15ms/step - loss: 0.4891 - accuracy: 0.8989\n",
      "Running Fold 5 ... \n",
      "21/21 [==============================] - 1s 12ms/step - loss: 0.8426 - accuracy: 0.8178\n",
      "Running Fold 6 ... \n",
      "21/21 [==============================] - 1s 12ms/step - loss: 0.8563 - accuracy: 0.7899\n",
      "Running Fold 7 ... \n",
      "21/21 [==============================] - 1s 13ms/step - loss: 0.5495 - accuracy: 0.8773\n",
      "Running Fold 8 ... \n",
      "21/21 [==============================] - 1s 15ms/step - loss: 0.6243 - accuracy: 0.8773\n",
      "Running Fold 9 ... \n",
      "21/21 [==============================] - 1s 12ms/step - loss: 0.5213 - accuracy: 0.8773\n",
      "Running Fold 10 ... \n",
      "21/21 [==============================] - 1s 13ms/step - loss: 0.6328 - accuracy: 0.8604\n"
     ]
    }
   ],
   "source": [
    "acc = K_fold_CV(all_data_filtered,RNN)"
   ]
  },
  {
   "cell_type": "code",
   "execution_count": 69,
   "metadata": {
    "execution": {
     "iopub.execute_input": "2021-06-14T12:31:08.176724Z",
     "iopub.status.busy": "2021-06-14T12:31:08.176390Z",
     "iopub.status.idle": "2021-06-14T12:31:08.181984Z",
     "shell.execute_reply": "2021-06-14T12:31:08.180957Z",
     "shell.execute_reply.started": "2021-06-14T12:31:08.176683Z"
    }
   },
   "outputs": [
    {
     "name": "stdout",
     "output_type": "stream",
     "text": [
      "[0.81470138, 0.92036754, 0.82848394, 0.89892805, 0.81776416, 0.7898773, 0.87730062, 0.87730062, 0.87730062, 0.86042947]\n"
     ]
    }
   ],
   "source": [
    "acc= [0.81470138, 0.92036754, 0.82848394, 0.89892805, 0.81776416, 0.7898773,\n",
    " 0.87730062, 0.87730062, 0.87730062, 0.86042947]\n",
    "print(acc)"
   ]
  },
  {
   "cell_type": "code",
   "execution_count": 72,
   "metadata": {
    "execution": {
     "iopub.execute_input": "2021-06-14T12:32:01.856145Z",
     "iopub.status.busy": "2021-06-14T12:32:01.855806Z",
     "iopub.status.idle": "2021-06-14T12:32:01.977655Z",
     "shell.execute_reply": "2021-06-14T12:32:01.976681Z",
     "shell.execute_reply.started": "2021-06-14T12:32:01.856114Z"
    }
   },
   "outputs": [
    {
     "data": {
      "image/png": "[encoded data removed]",
      "text/plain": [
       "<Figure size 500x300 with 1 Axes>"
      ]
     },
     "metadata": {
      "needs_background": "light"
     },
     "output_type": "display_data"
    }
   ],
   "source": [
    "plt.title(\"10 Fold 1D-CNN with LSTM on Filtered Input Data\")\n",
    "plt.boxplot(acc)\n",
    "plt.ylim(0.75,0.95)\n",
    "plt.grid(axis=\"y\")\n",
    "plt.show()"
   ]
  },
  {
   "cell_type": "code",
   "execution_count": null,
   "metadata": {},
   "outputs": [],
   "source": []
  }
 ],
 "metadata": {
  "kernelspec": {
   "display_name": "Python 3",
   "language": "python",
   "name": "python3"
  },
  "language_info": {
   "codemirror_mode": {
    "name": "ipython",
    "version": 3
   },
   "file_extension": ".py",
   "mimetype": "text/x-python",
   "name": "python",
   "nbconvert_exporter": "python",
   "pygments_lexer": "ipython3",
   "version": "3.6.9"
  }
 },
 "nbformat": 4,
 "nbformat_minor": 4
}
